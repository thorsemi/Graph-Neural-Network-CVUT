{
 "cells": [
  {
   "cell_type": "markdown",
   "id": "1f4848bf-77b3-416c-a44b-d88613b1ead1",
   "metadata": {},
   "source": [
    "# Homework - Network of Negativity \n",
    "#### Made by Emil Thorsbjerg (thorsemi)"
   ]
  },
  {
   "cell_type": "markdown",
   "id": "bc022888-f16d-474c-be7c-6f0c2a3ec1be",
   "metadata": {},
   "source": [
    " Identify the network of negativity. The dataset also contain attribute `LINK_SENTIMENT` which idetifies whether the the sentiment of the reference (post) is positive or neutral (+1) or negative (-1). Create a subgraph with only the negative links and analyse the graph. Find:"
   ]
  },
  {
   "cell_type": "code",
   "execution_count": 241,
   "id": "bfd08e49-05a2-4260-a5c1-a4054b2ca202",
   "metadata": {},
   "outputs": [],
   "source": [
    "import pandas as pd\n",
    "import networkx as nx\n",
    "import matplotlib.pyplot as plt\n",
    "import numpy as np\n",
    "from IPython.display import display\n",
    "# Reading the dataset\n",
    "df = pd.read_csv(\"soc-redditHyperlinks-body.tsv\", sep=\"\\t\")"
   ]
  },
  {
   "cell_type": "markdown",
   "id": "8b045a12-0c78-4c25-b307-5b5584eef1ad",
   "metadata": {},
   "source": [
    "### 1) Find the two subreddits which are the most likely to express negative view on each other."
   ]
  },
  {
   "cell_type": "markdown",
   "id": "18a0878c-d3cd-45f9-9486-35c918e154d3",
   "metadata": {},
   "source": [
    "I filter the dataset to keep only negative sentiment links (`LINK_SENTIMENT = -1`) between subreddits, allowing the identification of the most negatively interacting pairs."
   ]
  },
  {
   "cell_type": "code",
   "execution_count": 124,
   "id": "35028c59-bef3-45e9-9bf5-3ba51242b318",
   "metadata": {},
   "outputs": [
    {
     "name": "stdout",
     "output_type": "stream",
     "text": [
      "   SOURCE_SUBREDDIT TARGET_SUBREDDIT POST_ID            TIMESTAMP  \\\n",
      "1        theredlion           soccer  1u4qkd  2013-12-31 18:18:37   \n",
      "34  karmaconspiracy            funny  1u6fz3  2014-01-01 12:44:19   \n",
      "43         badkarma         gamesell  1u6t4g  2014-01-01 16:42:14   \n",
      "53       casualiama        teenagers  1u70s8  2014-01-01 17:09:46   \n",
      "55        australia           sydney  1u71zd  2014-01-01 17:24:46   \n",
      "\n",
      "    LINK_SENTIMENT                                         PROPERTIES  \n",
      "1               -1  101.0,98.0,0.742574257426,0.019801980198,0.049...  \n",
      "34              -1  186.0,182.0,0.741935483871,0.0376344086022,0.0...  \n",
      "43              -1  262.0,258.0,0.725190839695,0.0381679389313,0.0...  \n",
      "53              -1  91.0,91.0,0.78021978022,0.032967032967,0.04395...  \n",
      "55              -1  2547.0,2158.0,0.801334903808,0.0051040439733,0...  \n"
     ]
    }
   ],
   "source": [
    "df[\"LINK_SENTIMENT\"] = pd.to_numeric(df[\"LINK_SENTIMENT\"], errors=\"coerce\")\n",
    "df_neg = df[df[\"LINK_SENTIMENT\"] == -1].copy()\n",
    "print(df_neg.head()) "
   ]
  },
  {
   "cell_type": "markdown",
   "id": "8c87cb30-b7f5-4a0b-95b6-e99fcd671ab7",
   "metadata": {},
   "source": [
    "After i will I count the number of negative sentiment links between subreddit pairs and sort them to identify the most negatively interacting pairs."
   ]
  },
  {
   "cell_type": "code",
   "execution_count": 128,
   "id": "5bed2f32-7bed-43cf-9bc4-575a1f124c02",
   "metadata": {},
   "outputs": [
    {
     "data": {
      "text/html": [
       "<div>\n",
       "<style scoped>\n",
       "    .dataframe tbody tr th:only-of-type {\n",
       "        vertical-align: middle;\n",
       "    }\n",
       "\n",
       "    .dataframe tbody tr th {\n",
       "        vertical-align: top;\n",
       "    }\n",
       "\n",
       "    .dataframe thead th {\n",
       "        text-align: right;\n",
       "    }\n",
       "</style>\n",
       "<table border=\"1\" class=\"dataframe\">\n",
       "  <thead>\n",
       "    <tr style=\"text-align: right;\">\n",
       "      <th></th>\n",
       "      <th>SOURCE_SUBREDDIT</th>\n",
       "      <th>TARGET_SUBREDDIT</th>\n",
       "      <th>count</th>\n",
       "    </tr>\n",
       "  </thead>\n",
       "  <tbody>\n",
       "    <tr>\n",
       "      <th>14320</th>\n",
       "      <td>writingprompts</td>\n",
       "      <td>askreddit</td>\n",
       "      <td>56</td>\n",
       "    </tr>\n",
       "    <tr>\n",
       "      <th>2898</th>\n",
       "      <td>circlebroke</td>\n",
       "      <td>pics</td>\n",
       "      <td>48</td>\n",
       "    </tr>\n",
       "    <tr>\n",
       "      <th>2274</th>\n",
       "      <td>brokehugs</td>\n",
       "      <td>christianity</td>\n",
       "      <td>47</td>\n",
       "    </tr>\n",
       "    <tr>\n",
       "      <th>2953</th>\n",
       "      <td>circlebroke</td>\n",
       "      <td>videos</td>\n",
       "      <td>41</td>\n",
       "    </tr>\n",
       "    <tr>\n",
       "      <th>11807</th>\n",
       "      <td>streetfighter</td>\n",
       "      <td>sf4</td>\n",
       "      <td>39</td>\n",
       "    </tr>\n",
       "    <tr>\n",
       "      <th>2793</th>\n",
       "      <td>circlebroke</td>\n",
       "      <td>askreddit</td>\n",
       "      <td>39</td>\n",
       "    </tr>\n",
       "    <tr>\n",
       "      <th>2881</th>\n",
       "      <td>circlebroke</td>\n",
       "      <td>news</td>\n",
       "      <td>38</td>\n",
       "    </tr>\n",
       "    <tr>\n",
       "      <th>2833</th>\n",
       "      <td>circlebroke</td>\n",
       "      <td>funny</td>\n",
       "      <td>35</td>\n",
       "    </tr>\n",
       "    <tr>\n",
       "      <th>10799</th>\n",
       "      <td>shitghazisays</td>\n",
       "      <td>gamerghazi</td>\n",
       "      <td>35</td>\n",
       "    </tr>\n",
       "    <tr>\n",
       "      <th>6083</th>\n",
       "      <td>ggfreeforall</td>\n",
       "      <td>kotakuinaction</td>\n",
       "      <td>34</td>\n",
       "    </tr>\n",
       "  </tbody>\n",
       "</table>\n",
       "</div>"
      ],
      "text/plain": [
       "      SOURCE_SUBREDDIT TARGET_SUBREDDIT  count\n",
       "14320   writingprompts        askreddit     56\n",
       "2898       circlebroke             pics     48\n",
       "2274         brokehugs     christianity     47\n",
       "2953       circlebroke           videos     41\n",
       "11807    streetfighter              sf4     39\n",
       "2793       circlebroke        askreddit     39\n",
       "2881       circlebroke             news     38\n",
       "2833       circlebroke            funny     35\n",
       "10799    shitghazisays       gamerghazi     35\n",
       "6083      ggfreeforall   kotakuinaction     34"
      ]
     },
     "execution_count": 128,
     "metadata": {},
     "output_type": "execute_result"
    }
   ],
   "source": [
    "pair_counts = (\n",
    "    df_neg.groupby([\"SOURCE_SUBREDDIT\", \"TARGET_SUBREDDIT\"])\n",
    "    .size()\n",
    "    .reset_index(name=\"count\")\n",
    ")\n",
    "pair_counts = pair_counts.sort_values(\"count\", ascending=False)\n",
    "pair_counts.head(10)  "
   ]
  },
  {
   "cell_type": "markdown",
   "id": "f1b8c7e3-04ce-4658-a122-050cdc9b500a",
   "metadata": {},
   "source": [
    "I identify subreddit pairs with mutual negative interactions by merging reversed links and summing their negative sentiment counts to find the most negatively interacting pairs."
   ]
  },
  {
   "cell_type": "code",
   "execution_count": 131,
   "id": "77198128-4cce-47e6-9fd2-96aafa94b97c",
   "metadata": {},
   "outputs": [
    {
     "data": {
      "text/html": [
       "<div>\n",
       "<style scoped>\n",
       "    .dataframe tbody tr th:only-of-type {\n",
       "        vertical-align: middle;\n",
       "    }\n",
       "\n",
       "    .dataframe tbody tr th {\n",
       "        vertical-align: top;\n",
       "    }\n",
       "\n",
       "    .dataframe thead th {\n",
       "        text-align: right;\n",
       "    }\n",
       "</style>\n",
       "<table border=\"1\" class=\"dataframe\">\n",
       "  <thead>\n",
       "    <tr style=\"text-align: right;\">\n",
       "      <th></th>\n",
       "      <th>SOURCE_SUBREDDIT_AB</th>\n",
       "      <th>TARGET_SUBREDDIT_AB</th>\n",
       "      <th>count_AB</th>\n",
       "      <th>SOURCE_SUBREDDIT_BA</th>\n",
       "      <th>TARGET_SUBREDDIT_BA</th>\n",
       "      <th>count_BA</th>\n",
       "      <th>total_count</th>\n",
       "    </tr>\n",
       "  </thead>\n",
       "  <tbody>\n",
       "    <tr>\n",
       "      <th>0</th>\n",
       "      <td>writingprompts</td>\n",
       "      <td>askreddit</td>\n",
       "      <td>56</td>\n",
       "      <td>askreddit</td>\n",
       "      <td>writingprompts</td>\n",
       "      <td>2</td>\n",
       "      <td>58</td>\n",
       "    </tr>\n",
       "    <tr>\n",
       "      <th>332</th>\n",
       "      <td>askreddit</td>\n",
       "      <td>writingprompts</td>\n",
       "      <td>2</td>\n",
       "      <td>writingprompts</td>\n",
       "      <td>askreddit</td>\n",
       "      <td>56</td>\n",
       "      <td>58</td>\n",
       "    </tr>\n",
       "    <tr>\n",
       "      <th>948</th>\n",
       "      <td>gamerghazi</td>\n",
       "      <td>shitghazisays</td>\n",
       "      <td>1</td>\n",
       "      <td>shitghazisays</td>\n",
       "      <td>gamerghazi</td>\n",
       "      <td>35</td>\n",
       "      <td>36</td>\n",
       "    </tr>\n",
       "    <tr>\n",
       "      <th>1</th>\n",
       "      <td>shitghazisays</td>\n",
       "      <td>gamerghazi</td>\n",
       "      <td>35</td>\n",
       "      <td>gamerghazi</td>\n",
       "      <td>shitghazisays</td>\n",
       "      <td>1</td>\n",
       "      <td>36</td>\n",
       "    </tr>\n",
       "    <tr>\n",
       "      <th>2</th>\n",
       "      <td>hearthstone</td>\n",
       "      <td>hearthstonecirclejerk</td>\n",
       "      <td>31</td>\n",
       "      <td>hearthstonecirclejerk</td>\n",
       "      <td>hearthstone</td>\n",
       "      <td>3</td>\n",
       "      <td>34</td>\n",
       "    </tr>\n",
       "    <tr>\n",
       "      <th>160</th>\n",
       "      <td>hearthstonecirclejerk</td>\n",
       "      <td>hearthstone</td>\n",
       "      <td>3</td>\n",
       "      <td>hearthstone</td>\n",
       "      <td>hearthstonecirclejerk</td>\n",
       "      <td>31</td>\n",
       "      <td>34</td>\n",
       "    </tr>\n",
       "    <tr>\n",
       "      <th>10</th>\n",
       "      <td>drama</td>\n",
       "      <td>subredditdrama</td>\n",
       "      <td>14</td>\n",
       "      <td>subredditdrama</td>\n",
       "      <td>drama</td>\n",
       "      <td>19</td>\n",
       "      <td>33</td>\n",
       "    </tr>\n",
       "    <tr>\n",
       "      <th>4</th>\n",
       "      <td>subredditdrama</td>\n",
       "      <td>drama</td>\n",
       "      <td>19</td>\n",
       "      <td>drama</td>\n",
       "      <td>subredditdrama</td>\n",
       "      <td>14</td>\n",
       "      <td>33</td>\n",
       "    </tr>\n",
       "    <tr>\n",
       "      <th>3</th>\n",
       "      <td>gamerghazi</td>\n",
       "      <td>kotakuinaction</td>\n",
       "      <td>29</td>\n",
       "      <td>kotakuinaction</td>\n",
       "      <td>gamerghazi</td>\n",
       "      <td>2</td>\n",
       "      <td>31</td>\n",
       "    </tr>\n",
       "    <tr>\n",
       "      <th>338</th>\n",
       "      <td>kotakuinaction</td>\n",
       "      <td>gamerghazi</td>\n",
       "      <td>2</td>\n",
       "      <td>gamerghazi</td>\n",
       "      <td>kotakuinaction</td>\n",
       "      <td>29</td>\n",
       "      <td>31</td>\n",
       "    </tr>\n",
       "  </tbody>\n",
       "</table>\n",
       "</div>"
      ],
      "text/plain": [
       "       SOURCE_SUBREDDIT_AB    TARGET_SUBREDDIT_AB  count_AB  \\\n",
       "0           writingprompts              askreddit        56   \n",
       "332              askreddit         writingprompts         2   \n",
       "948             gamerghazi          shitghazisays         1   \n",
       "1            shitghazisays             gamerghazi        35   \n",
       "2              hearthstone  hearthstonecirclejerk        31   \n",
       "160  hearthstonecirclejerk            hearthstone         3   \n",
       "10                   drama         subredditdrama        14   \n",
       "4           subredditdrama                  drama        19   \n",
       "3               gamerghazi         kotakuinaction        29   \n",
       "338         kotakuinaction             gamerghazi         2   \n",
       "\n",
       "       SOURCE_SUBREDDIT_BA    TARGET_SUBREDDIT_BA  count_BA  total_count  \n",
       "0                askreddit         writingprompts         2           58  \n",
       "332         writingprompts              askreddit        56           58  \n",
       "948          shitghazisays             gamerghazi        35           36  \n",
       "1               gamerghazi          shitghazisays         1           36  \n",
       "2    hearthstonecirclejerk            hearthstone         3           34  \n",
       "160            hearthstone  hearthstonecirclejerk        31           34  \n",
       "10          subredditdrama                  drama        19           33  \n",
       "4                    drama         subredditdrama        14           33  \n",
       "3           kotakuinaction             gamerghazi         2           31  \n",
       "338             gamerghazi         kotakuinaction        29           31  "
      ]
     },
     "execution_count": 131,
     "metadata": {},
     "output_type": "execute_result"
    }
   ],
   "source": [
    "merged = pair_counts.merge(\n",
    "    pair_counts,\n",
    "    left_on=[\"SOURCE_SUBREDDIT\", \"TARGET_SUBREDDIT\"],\n",
    "    right_on=[\"TARGET_SUBREDDIT\", \"SOURCE_SUBREDDIT\"],\n",
    "    suffixes=(\"_AB\", \"_BA\")\n",
    ")\n",
    "merged[\"total_count\"] = merged[\"count_AB\"] + merged[\"count_BA\"]\n",
    "merged_sorted = merged.sort_values(\"total_count\", ascending=False)\n",
    "merged_sorted.head(10)  "
   ]
  },
  {
   "cell_type": "markdown",
   "id": "8cf7cf00-3098-4f59-9fe2-8272753ca393",
   "metadata": {},
   "source": [
    "After, I find the two subreddits with the highest mutual negative interactions by summing their negative sentiment counts and selecting the most negatively interacting pair."
   ]
  },
  {
   "cell_type": "code",
   "execution_count": 134,
   "id": "b1a7c452-e146-49e0-b6cc-b80fbfbc5f66",
   "metadata": {},
   "outputs": [
    {
     "name": "stdout",
     "output_type": "stream",
     "text": [
      "The most Interacting subreddits: writingprompts and askreddit\n"
     ]
    }
   ],
   "source": [
    "merged[\"total_count\"] = merged[\"count_AB\"] + merged[\"count_BA\"]\n",
    "merged_sorted = merged.sort_values(\"total_count\", ascending=False)\n",
    "most_negative_pair = merged_sorted.iloc[0] \n",
    "print(f\"The most Interacting subreddits: {most_negative_pair['SOURCE_SUBREDDIT_AB']} and {most_negative_pair['TARGET_SUBREDDIT_AB']}\")"
   ]
  },
  {
   "cell_type": "markdown",
   "id": "760a499f-d905-4a83-8893-8cac4bad188d",
   "metadata": {},
   "source": [
    "### 2) Find the \"hubs of negativity\" - the subreddits with highest betweeness, pagerank, ... centrality and describe what they mean for the network."
   ]
  },
  {
   "cell_type": "markdown",
   "id": "ac4a5cc7-78aa-40bf-9a31-4d9df361a765",
   "metadata": {},
   "source": [
    "To start with i will I create a directed graph using only negative links to model the flow of negativity between subreddits\n"
   ]
  },
  {
   "cell_type": "code",
   "execution_count": 145,
   "id": "1767d696-771c-4113-bbbd-91a705c2b835",
   "metadata": {},
   "outputs": [],
   "source": [
    "G_neg = nx.from_pandas_edgelist(\n",
    "    df_neg,\n",
    "    source=\"SOURCE_SUBREDDIT\",\n",
    "    target=\"TARGET_SUBREDDIT\",\n",
    "    create_using=nx.DiGraph()\n",
    ")"
   ]
  },
  {
   "cell_type": "markdown",
   "id": "55277fcc-ac6c-4966-997b-4b5d718b8c79",
   "metadata": {},
   "source": [
    "After, I compute key centrality measures (betweenness, PageRank, in-degree, out-degree) to identify the most central subreddits in the negative network."
   ]
  },
  {
   "cell_type": "code",
   "execution_count": null,
   "id": "ec2dcd34-61ff-4121-b69f-5ea832bb1bfd",
   "metadata": {},
   "outputs": [],
   "source": [
    "betweenness = nx.betweenness_centrality(G_neg)\n",
    "pagerank = nx.pagerank(G_neg, alpha=0.85)\n",
    "in_degree = nx.in_degree_centrality(G_neg)\n",
    "out_degree = nx.out_degree_centrality(G_neg)"
   ]
  },
  {
   "cell_type": "markdown",
   "id": "afc89f2d-1692-4fff-827b-5b1eca0c4f18",
   "metadata": {},
   "source": [
    "I will here combine the results into a single table to compare different centrality scores for each subreddit."
   ]
  },
  {
   "cell_type": "code",
   "execution_count": 152,
   "id": "ab6d3a48-c54a-4674-875b-5493eb2744d6",
   "metadata": {},
   "outputs": [],
   "source": [
    "centrality_df = pd.DataFrame({\n",
    "    \"subreddit\": list(betweenness.keys()),\n",
    "    \"betweenness\": list(betweenness.values()),\n",
    "    \"pagerank\": [pagerank[n] for n in betweenness.keys()],\n",
    "    \"in_degree\": [in_degree[n] for n in betweenness.keys()],\n",
    "    \"out_degree\": [out_degree[n] for n in betweenness.keys()],\n",
    "})"
   ]
  },
  {
   "cell_type": "markdown",
   "id": "f3d26f38-db9a-40f0-a6e1-2115c2758e65",
   "metadata": {},
   "source": [
    "I sort subreddits by PageRank to reveal the top 10 most influential hubs of negativity in the network."
   ]
  },
  {
   "cell_type": "code",
   "execution_count": 159,
   "id": "7fcb8bc9-36ea-4d71-bb58-db0c708668b7",
   "metadata": {},
   "outputs": [
    {
     "data": {
      "text/html": [
       "<div>\n",
       "<style scoped>\n",
       "    .dataframe tbody tr th:only-of-type {\n",
       "        vertical-align: middle;\n",
       "    }\n",
       "\n",
       "    .dataframe tbody tr th {\n",
       "        vertical-align: top;\n",
       "    }\n",
       "\n",
       "    .dataframe thead th {\n",
       "        text-align: right;\n",
       "    }\n",
       "</style>\n",
       "<table border=\"1\" class=\"dataframe\">\n",
       "  <thead>\n",
       "    <tr style=\"text-align: right;\">\n",
       "      <th></th>\n",
       "      <th>subreddit</th>\n",
       "      <th>betweenness</th>\n",
       "      <th>pagerank</th>\n",
       "      <th>in_degree</th>\n",
       "      <th>out_degree</th>\n",
       "    </tr>\n",
       "  </thead>\n",
       "  <tbody>\n",
       "    <tr>\n",
       "      <th>37</th>\n",
       "      <td>askreddit</td>\n",
       "      <td>0.062299</td>\n",
       "      <td>0.019529</td>\n",
       "      <td>0.063275</td>\n",
       "      <td>0.013032</td>\n",
       "    </tr>\n",
       "    <tr>\n",
       "      <th>102</th>\n",
       "      <td>worldnews</td>\n",
       "      <td>0.000000</td>\n",
       "      <td>0.008520</td>\n",
       "      <td>0.027634</td>\n",
       "      <td>0.000000</td>\n",
       "    </tr>\n",
       "    <tr>\n",
       "      <th>25</th>\n",
       "      <td>iama</td>\n",
       "      <td>0.005974</td>\n",
       "      <td>0.007527</td>\n",
       "      <td>0.020411</td>\n",
       "      <td>0.003297</td>\n",
       "    </tr>\n",
       "    <tr>\n",
       "      <th>68</th>\n",
       "      <td>videos</td>\n",
       "      <td>0.000000</td>\n",
       "      <td>0.006267</td>\n",
       "      <td>0.024023</td>\n",
       "      <td>0.000000</td>\n",
       "    </tr>\n",
       "    <tr>\n",
       "      <th>36</th>\n",
       "      <td>news</td>\n",
       "      <td>0.000071</td>\n",
       "      <td>0.005973</td>\n",
       "      <td>0.024965</td>\n",
       "      <td>0.000157</td>\n",
       "    </tr>\n",
       "    <tr>\n",
       "      <th>42</th>\n",
       "      <td>todayilearned</td>\n",
       "      <td>0.000000</td>\n",
       "      <td>0.005610</td>\n",
       "      <td>0.025907</td>\n",
       "      <td>0.000000</td>\n",
       "    </tr>\n",
       "    <tr>\n",
       "      <th>3</th>\n",
       "      <td>funny</td>\n",
       "      <td>0.005874</td>\n",
       "      <td>0.005557</td>\n",
       "      <td>0.022138</td>\n",
       "      <td>0.000628</td>\n",
       "    </tr>\n",
       "    <tr>\n",
       "      <th>237</th>\n",
       "      <td>ukraine</td>\n",
       "      <td>0.000000</td>\n",
       "      <td>0.005217</td>\n",
       "      <td>0.000314</td>\n",
       "      <td>0.000000</td>\n",
       "    </tr>\n",
       "    <tr>\n",
       "      <th>38</th>\n",
       "      <td>pics</td>\n",
       "      <td>0.000000</td>\n",
       "      <td>0.004929</td>\n",
       "      <td>0.023709</td>\n",
       "      <td>0.000000</td>\n",
       "    </tr>\n",
       "    <tr>\n",
       "      <th>54</th>\n",
       "      <td>writingprompts</td>\n",
       "      <td>0.016115</td>\n",
       "      <td>0.004911</td>\n",
       "      <td>0.012247</td>\n",
       "      <td>0.016643</td>\n",
       "    </tr>\n",
       "  </tbody>\n",
       "</table>\n",
       "</div>"
      ],
      "text/plain": [
       "          subreddit  betweenness  pagerank  in_degree  out_degree\n",
       "37        askreddit     0.062299  0.019529   0.063275    0.013032\n",
       "102       worldnews     0.000000  0.008520   0.027634    0.000000\n",
       "25             iama     0.005974  0.007527   0.020411    0.003297\n",
       "68           videos     0.000000  0.006267   0.024023    0.000000\n",
       "36             news     0.000071  0.005973   0.024965    0.000157\n",
       "42    todayilearned     0.000000  0.005610   0.025907    0.000000\n",
       "3             funny     0.005874  0.005557   0.022138    0.000628\n",
       "237         ukraine     0.000000  0.005217   0.000314    0.000000\n",
       "38             pics     0.000000  0.004929   0.023709    0.000000\n",
       "54   writingprompts     0.016115  0.004911   0.012247    0.016643"
      ]
     },
     "execution_count": 159,
     "metadata": {},
     "output_type": "execute_result"
    }
   ],
   "source": [
    "top_hubs = centrality_df.sort_values(\"pagerank\", ascending=False).head(10)\n",
    "top_hubs"
   ]
  },
  {
   "cell_type": "markdown",
   "id": "a1044de5-6f1c-4db2-b437-e0a49703fdc6",
   "metadata": {},
   "source": [
    "### 3) Identify positive subreddits - ones, that never get or give negative sentiment link."
   ]
  },
  {
   "cell_type": "markdown",
   "id": "d571b1e8-c4d2-4961-93bd-39b0be5959da",
   "metadata": {},
   "source": [
    "I will start by retrieve all unique subreddits present in the dataset, considering both sources and targets of interactions."
   ]
  },
  {
   "cell_type": "code",
   "execution_count": 183,
   "id": "ae53ab34-4569-4a12-86ab-f662581c90d4",
   "metadata": {},
   "outputs": [],
   "source": [
    "all_subreddits = set(df[\"SOURCE_SUBREDDIT\"]).union(set(df[\"TARGET_SUBREDDIT\"]))"
   ]
  },
  {
   "cell_type": "markdown",
   "id": "c47d9ee9-c14d-4c74-ac6a-0b017eb6d2dc",
   "metadata": {},
   "source": [
    "After i will extract all subreddits that are involved in negative interactions, either as senders or receivers."
   ]
  },
  {
   "cell_type": "code",
   "execution_count": 186,
   "id": "39de48a3-e259-4d89-911a-5a1bc5a3227e",
   "metadata": {},
   "outputs": [],
   "source": [
    "neg_subreddits = set(df_neg[\"SOURCE_SUBREDDIT\"]).union(set(df_neg[\"TARGET_SUBREDDIT\"]))"
   ]
  },
  {
   "cell_type": "markdown",
   "id": "2e046c99-78b4-4512-86c7-7708e2d99b0c",
   "metadata": {},
   "source": [
    "I identify subreddits that never engage in negative interactions and count the total number of such subreddits."
   ]
  },
  {
   "cell_type": "code",
   "execution_count": 222,
   "id": "099c297c-c487-4507-bc49-c976c1862d86",
   "metadata": {},
   "outputs": [
    {
     "data": {
      "text/html": [
       "<div>\n",
       "<style scoped>\n",
       "    .dataframe tbody tr th:only-of-type {\n",
       "        vertical-align: middle;\n",
       "    }\n",
       "\n",
       "    .dataframe tbody tr th {\n",
       "        vertical-align: top;\n",
       "    }\n",
       "\n",
       "    .dataframe thead th {\n",
       "        text-align: right;\n",
       "    }\n",
       "</style>\n",
       "<table border=\"1\" class=\"dataframe\">\n",
       "  <thead>\n",
       "    <tr style=\"text-align: right;\">\n",
       "      <th></th>\n",
       "      <th>Positive Subreddits</th>\n",
       "    </tr>\n",
       "  </thead>\n",
       "  <tbody>\n",
       "    <tr>\n",
       "      <th>0</th>\n",
       "      <td>overwatchcirclejerk</td>\n",
       "    </tr>\n",
       "    <tr>\n",
       "      <th>1</th>\n",
       "      <td>casualbattling</td>\n",
       "    </tr>\n",
       "    <tr>\n",
       "      <th>2</th>\n",
       "      <td>datasets</td>\n",
       "    </tr>\n",
       "    <tr>\n",
       "      <th>3</th>\n",
       "      <td>clashabsinthe</td>\n",
       "    </tr>\n",
       "    <tr>\n",
       "      <th>4</th>\n",
       "      <td>shbteam</td>\n",
       "    </tr>\n",
       "    <tr>\n",
       "      <th>5</th>\n",
       "      <td>solr</td>\n",
       "    </tr>\n",
       "    <tr>\n",
       "      <th>6</th>\n",
       "      <td>ligamx</td>\n",
       "    </tr>\n",
       "    <tr>\n",
       "      <th>7</th>\n",
       "      <td>housedarsk</td>\n",
       "    </tr>\n",
       "    <tr>\n",
       "      <th>8</th>\n",
       "      <td>ffgm</td>\n",
       "    </tr>\n",
       "    <tr>\n",
       "      <th>9</th>\n",
       "      <td>nobackspace</td>\n",
       "    </tr>\n",
       "    <tr>\n",
       "      <th>10</th>\n",
       "      <td>wyttd</td>\n",
       "    </tr>\n",
       "  </tbody>\n",
       "</table>\n",
       "</div>"
      ],
      "text/plain": [
       "    Positive Subreddits\n",
       "0   overwatchcirclejerk\n",
       "1        casualbattling\n",
       "2              datasets\n",
       "3         clashabsinthe\n",
       "4               shbteam\n",
       "5                  solr\n",
       "6                ligamx\n",
       "7            housedarsk\n",
       "8                  ffgm\n",
       "9           nobackspace\n",
       "10                wyttd"
      ]
     },
     "execution_count": 222,
     "metadata": {},
     "output_type": "execute_result"
    }
   ],
   "source": [
    "positive_df = pd.DataFrame({\"Positive Subreddits\": list(positive_subreddits)})\n",
    "positive_df.head(11)"
   ]
  },
  {
   "cell_type": "markdown",
   "id": "4a318327-4a50-4298-8c57-1703cae5030a",
   "metadata": {},
   "source": [
    "Here we get a list of 10 positive subreddits that are identified as those never involved in any negative sentiment links — neither sending nor receiving — while still being active in the dataset.\n"
   ]
  },
  {
   "cell_type": "markdown",
   "id": "adda94c9-8e60-4548-baf0-5a5b5d30ef4b",
   "metadata": {},
   "source": [
    "### 4) Find cliques of negativity (subsets of subreddits that have negative links between each other)."
   ]
  },
  {
   "cell_type": "markdown",
   "id": "030d6b67-f14e-4b23-aa64-016f78a187a9",
   "metadata": {},
   "source": [
    "I start of by creating an undirected graph using only negative sentiment links to detect tightly connected negative groups."
   ]
  },
  {
   "cell_type": "code",
   "execution_count": 229,
   "id": "4a05de61-3093-4c61-a80f-b01a58065c45",
   "metadata": {},
   "outputs": [],
   "source": [
    "G_neg = nx.from_pandas_edgelist(\n",
    "    df_neg,\n",
    "    source=\"SOURCE_SUBREDDIT\",\n",
    "    target=\"TARGET_SUBREDDIT\",\n",
    "    create_using=nx.Graph()  # Ikke-dirigeret graf for at finde cliques\n",
    ")"
   ]
  },
  {
   "cell_type": "markdown",
   "id": "6cca2c8b-9928-4bc9-97bb-ac950f92d8ed",
   "metadata": {},
   "source": [
    "I here detect maximal cliques in the negative network, where all subreddits are interconnected through negative sentiment links."
   ]
  },
  {
   "cell_type": "code",
   "execution_count": 232,
   "id": "e8fc58ca-5e86-4003-aa4f-346c6ead4758",
   "metadata": {},
   "outputs": [],
   "source": [
    "negative_cliques = list(nx.find_cliques(G_neg))"
   ]
  },
  {
   "cell_type": "markdown",
   "id": "3700a766-2150-4473-9034-3332ea134e48",
   "metadata": {},
   "source": [
    "I after sort and display the largest negative cliques, revealing groups of subreddits that are fully connected by negative sentiment."
   ]
  },
  {
   "cell_type": "code",
   "execution_count": 253,
   "id": "22dcc96d-070d-48a8-9e3d-744e66479e2f",
   "metadata": {},
   "outputs": [
    {
     "data": {
      "text/html": [
       "<div>\n",
       "<style scoped>\n",
       "    .dataframe tbody tr th:only-of-type {\n",
       "        vertical-align: middle;\n",
       "    }\n",
       "\n",
       "    .dataframe tbody tr th {\n",
       "        vertical-align: top;\n",
       "    }\n",
       "\n",
       "    .dataframe thead th {\n",
       "        text-align: right;\n",
       "    }\n",
       "</style>\n",
       "<table border=\"1\" class=\"dataframe\">\n",
       "  <thead>\n",
       "    <tr style=\"text-align: right;\">\n",
       "      <th></th>\n",
       "      <th>Clique Number</th>\n",
       "      <th>Subreddits</th>\n",
       "    </tr>\n",
       "  </thead>\n",
       "  <tbody>\n",
       "    <tr>\n",
       "      <th>0</th>\n",
       "      <td>Clique 1</td>\n",
       "      <td>subredditdrama, drama, askreddit, circlejerkcopypasta, circlebroke, politics, news, conspiracy, iama, undelete, the_donald</td>\n",
       "    </tr>\n",
       "    <tr>\n",
       "      <th>1</th>\n",
       "      <td>Clique 2</td>\n",
       "      <td>subredditdrama, drama, askreddit, circlejerkcopypasta, bestofoutrageculture, undelete, conspiracy, iama, the_donald, news, politics</td>\n",
       "    </tr>\n",
       "    <tr>\n",
       "      <th>2</th>\n",
       "      <td>Clique 3</td>\n",
       "      <td>subredditdrama, drama, askreddit, copypasta, circlebroke, conspiracy, iama, politics, news, undelete, the_donald</td>\n",
       "    </tr>\n",
       "    <tr>\n",
       "      <th>3</th>\n",
       "      <td>Clique 4</td>\n",
       "      <td>subredditdrama, drama, askreddit, copypasta, bestofoutrageculture, conspiracy, undelete, iama, the_donald, news, politics</td>\n",
       "    </tr>\n",
       "    <tr>\n",
       "      <th>4</th>\n",
       "      <td>Clique 5</td>\n",
       "      <td>advice, askreddit, offmychest, legaladvice, self, depression, raisedbynarcissists, suicidewatch, relationships, relationship_advice</td>\n",
       "    </tr>\n",
       "  </tbody>\n",
       "</table>\n",
       "</div>"
      ],
      "text/plain": [
       "  Clique Number  \\\n",
       "0      Clique 1   \n",
       "1      Clique 2   \n",
       "2      Clique 3   \n",
       "3      Clique 4   \n",
       "4      Clique 5   \n",
       "\n",
       "                                                                                                                            Subreddits  \n",
       "0           subredditdrama, drama, askreddit, circlejerkcopypasta, circlebroke, politics, news, conspiracy, iama, undelete, the_donald  \n",
       "1  subredditdrama, drama, askreddit, circlejerkcopypasta, bestofoutrageculture, undelete, conspiracy, iama, the_donald, news, politics  \n",
       "2                     subredditdrama, drama, askreddit, copypasta, circlebroke, conspiracy, iama, politics, news, undelete, the_donald  \n",
       "3            subredditdrama, drama, askreddit, copypasta, bestofoutrageculture, conspiracy, undelete, iama, the_donald, news, politics  \n",
       "4  advice, askreddit, offmychest, legaladvice, self, depression, raisedbynarcissists, suicidewatch, relationships, relationship_advice  "
      ]
     },
     "metadata": {},
     "output_type": "display_data"
    }
   ],
   "source": [
    "clique_df = pd.DataFrame(clique_data)\n",
    "pd.set_option(\"display.max_colwidth\", None) \n",
    "display(clique_df.head(10)) "
   ]
  }
 ],
 "metadata": {
  "kernelspec": {
   "display_name": "Python 3 (ipykernel)",
   "language": "python",
   "name": "python3"
  },
  "language_info": {
   "codemirror_mode": {
    "name": "ipython",
    "version": 3
   },
   "file_extension": ".py",
   "mimetype": "text/x-python",
   "name": "python",
   "nbconvert_exporter": "python",
   "pygments_lexer": "ipython3",
   "version": "3.12.4"
  }
 },
 "nbformat": 4,
 "nbformat_minor": 5
}
